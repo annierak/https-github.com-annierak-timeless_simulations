{
 "cells": [
  {
   "cell_type": "code",
   "execution_count": 1,
   "metadata": {},
   "outputs": [],
   "source": [
    "import time\n",
    "import scipy\n",
    "import matplotlib.pyplot as plt\n",
    "import matplotlib\n",
    "import sys\n",
    "import itertools\n",
    "import json\n",
    "import numpy as np\n",
    "from odor_tracking_sim import utility\n",
    "from pompy import models\n",
    "# from matplotlib.widgets import Slider,Button\n",
    "# from matplotlib.transforms import Bbox\n",
    "from extras import UpdatingVPatch,plot_wedges\n",
    "from core_functions import f0,f1,f1_wedge,f2,f3,f4,f5\n",
    "from ipywidgets import interactive\n",
    "import ipywidgets as widgets\n",
    "import warnings\n",
    "warnings.filterwarnings('ignore')"
   ]
  },
  {
   "cell_type": "code",
   "execution_count": 25,
   "metadata": {},
   "outputs": [],
   "source": [
    "#Constants that don't change with drag bars\n",
    "num_flies = 20000\n",
    "fly_speed = 1.6\n",
    "\n",
    "number_sources = 8\n",
    "radius_sources = 1000.0\n",
    "source_locations, _ = utility.create_circle_of_sources(number_sources,\n",
    "                radius_sources,None)\n",
    "source_pos = scipy.array([scipy.array(tup) for tup in source_locations])\n",
    "release_location = np.zeros(2)\n",
    "\n",
    "intended_heading_angles = np.random.uniform(0,2*np.pi,num_flies)\n",
    "intended_heading_angles = np.linspace(0,2*np.pi,num_flies)\n",
    "\n",
    "initial_cone_angle = np.radians(10.)"
   ]
  },
  {
   "cell_type": "code",
   "execution_count": 28,
   "metadata": {},
   "outputs": [
    {
     "data": {
      "application/vnd.jupyter.widget-view+json": {
       "model_id": "5634ae91fc9b44879566d4d339e88076",
       "version_major": 2,
       "version_minor": 0
      },
      "text/plain": [
       "interactive(children=(FloatSlider(value=1.0, continuous_update=False, description='wind_mag', max=4.0, readout…"
      ]
     },
     "metadata": {},
     "output_type": "display_data"
    }
   ],
   "source": [
    "windmag_slider = widgets.FloatSlider(\n",
    "    value=1.,\n",
    "    min=0,\n",
    "    max=4.0,\n",
    "    step=0.1,\n",
    "    disabled=False,\n",
    "    continuous_update=False,\n",
    "    orientation='horizontal',\n",
    "    readout=True,\n",
    "    readout_format='.1f',\n",
    ")\n",
    "\n",
    "cone_angle_slider = widgets.FloatSlider(\n",
    "    value=np.degrees(initial_cone_angle),\n",
    "    min=0.,\n",
    "    max=40.0,\n",
    "    step=0.1,\n",
    "    disabled=False,\n",
    "    continuous_update=False,\n",
    "    orientation='horizontal',\n",
    "    readout=True,\n",
    "    readout_format='.1f',\n",
    ")\n",
    "\n",
    "toggle = widgets.ToggleButton(\n",
    "    value=False,\n",
    "    description='Toggle',\n",
    "    disabled=False,\n",
    "    button_style='', # 'success', 'info', 'warning', 'danger' or ''\n",
    "    tooltip='Description')\n",
    "\n",
    "\n",
    "def f(wind_mag,toggle,cone_angle):\n",
    "\n",
    "    wind_angle = 7*scipy.pi/8.\n",
    "    # wind_mag = 1.0\n",
    "  \n",
    "    # cone_angle = np.radians(20.)\n",
    "    cone_angle = np.radians(cone_angle)\n",
    "\n",
    "    release_times=0.\n",
    "\n",
    "    K = -.4\n",
    "    x_0 = 300\n",
    "\n",
    "      #Convert intended heading angles to track heading angles\n",
    "    track_heading_angles,dispersing_speeds = f0(intended_heading_angles,wind_mag,\n",
    "        wind_angle)\n",
    "\n",
    "    intersection_distances,dispersal_distances = f1_wedge(\n",
    "    track_heading_angles,source_pos,wind_angle,cone_angle)\n",
    "    success_probabilities = f2(intersection_distances,K,x_0,source_pos,wind_angle)\n",
    "    plume_assignments = f3(success_probabilities,dispersal_distances)\n",
    "    dispersal_travel_times,release_to_chosen_plume_distances = f4(\n",
    "            plume_assignments,dispersal_distances,dispersing_speeds)\n",
    "  \n",
    "    fig1 = plt.figure(1)\n",
    "    ax = plt.subplot()\n",
    "    \n",
    "    xlim = (-1500., 1500.)\n",
    "    ylim = (-1500., 1500.)\n",
    "    im_extents = xlim[0], xlim[1], ylim[0], ylim[1]\n",
    "\n",
    "    ax.set_ylim(list(ylim))\n",
    "    ax.set_xlim(list(xlim))\n",
    "    \n",
    "    if toggle:\n",
    "        plt.scatter(release_to_chosen_plume_distances*np.cos(track_heading_angles),\n",
    "            release_to_chosen_plume_distances*np.sin(track_heading_angles),color='r',alpha=0.02)\n",
    "        \n",
    "    else: \n",
    "        time = 5*60.\n",
    "        mag = time*dispersing_speeds \n",
    "        plt.scatter(mag*np.cos(track_heading_angles),\n",
    "            mag*np.sin(track_heading_angles),color='r',alpha=0.02)\n",
    "    \n",
    "    wedge_points = plot_wedges(source_pos,wind_angle,cone_angle)\n",
    "\n",
    "    plume_wedges = [matplotlib.patches.Polygon(\n",
    "        wedge_points[:,i,:],color='black',alpha=0.2) for i in range(number_sources)]\n",
    "\n",
    "    for plume_wedge in plume_wedges:\n",
    "        ax.add_patch(plume_wedge)\n",
    "\n",
    "    for x,y in source_locations:\n",
    "        plt.scatter(x,y,marker='x',s=50,c='k')\n",
    "    \n",
    "    ax.set_aspect('equal')\n",
    "    \n",
    "    plt.xticks([])\n",
    "    plt.yticks([])\n",
    "    \n",
    "    \n",
    "interactive(f, wind_mag=windmag_slider,cone_angle=cone_angle_slider,toggle=toggle)\n",
    "    "
   ]
  },
  {
   "cell_type": "code",
   "execution_count": 13,
   "metadata": {},
   "outputs": [],
   "source": [
    "#     def update(val):\n",
    "\n",
    "#         print(val)\n",
    "\n",
    "#         wind_mag = windmag_slider.val\n",
    "#         K = -1.\n",
    "#         x_0 = 0.4\n",
    "#         cone_angle = np.radians(10)\n",
    "#         track_heading_angles,dispersing_speeds = f0(intended_heading_angles,wind_mag,wind_angle)\n",
    "#         fly_dots.set_offsets(\n",
    "#             scipy.c_[\n",
    "#                 time*dispersing_speeds*np.cos(track_heading_angles),\n",
    "#                 time*dispersing_speeds*np.sin(track_heading_angles)])\n",
    "#         fig1.canvas.draw_idle()"
   ]
  },
  {
   "cell_type": "code",
   "execution_count": 13,
   "metadata": {},
   "outputs": [
    {
     "data": {
      "application/vnd.jupyter.widget-view+json": {
       "model_id": "fb22f7613aee40268acbe4fc7733f146",
       "version_major": 2,
       "version_minor": 0
      },
      "text/plain": [
       "interactive(children=(FloatSlider(value=1.0, continuous_update=False, description='wind_mag', max=4.0, readout…"
      ]
     },
     "metadata": {},
     "output_type": "display_data"
    }
   ],
   "source": [
    "button = widgets.Button(description=\"Toggle\")\n",
    "def on_button_clicked(b):\n",
    "    for c in cb_container.children:\n",
    "        if not c.value:\n",
    "            plots.set_visible(False)\n",
    "        else:\n",
    "            plots.set_visible(True)\n",
    "    plt.legend()\n",
    "    plt.draw()\n",
    " \n",
    "button.on_click(on_button_clicked)\n",
    "\n"
   ]
  },
  {
   "cell_type": "code",
   "execution_count": 10,
   "metadata": {},
   "outputs": [
    {
     "data": {
      "application/vnd.jupyter.widget-view+json": {
       "model_id": "833585a295554bb891047de7d31b3f2f",
       "version_major": 2,
       "version_minor": 0
      },
      "text/plain": [
       "IntSlider(value=0)"
      ]
     },
     "metadata": {},
     "output_type": "display_data"
    }
   ],
   "source": [
    "\n",
    "int_range = widgets.IntSlider()\n",
    "\n",
    "def plot_state(change):\n",
    "    print('b')\n",
    "    pass\n",
    "\n",
    "\n",
    "int_range.observe(on_value_change, names='value')\n",
    "display(int_range)\n"
   ]
  },
  {
   "cell_type": "code",
   "execution_count": null,
   "metadata": {},
   "outputs": [],
   "source": []
  }
 ],
 "metadata": {
  "kernelspec": {
   "display_name": "be103",
   "language": "python",
   "name": "be103"
  },
  "language_info": {
   "codemirror_mode": {
    "name": "ipython",
    "version": 3
   },
   "file_extension": ".py",
   "mimetype": "text/x-python",
   "name": "python",
   "nbconvert_exporter": "python",
   "pygments_lexer": "ipython3",
   "version": "3.7.0"
  }
 },
 "nbformat": 4,
 "nbformat_minor": 2
}
